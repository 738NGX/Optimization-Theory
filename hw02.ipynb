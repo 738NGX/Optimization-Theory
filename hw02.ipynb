{
 "cells": [
  {
   "cell_type": "markdown",
   "metadata": {},
   "source": [
    "课件“运筹学简介”的P20中介绍了不能完全可分情况下的支持向量机的建模方法。请随机生成10个2维点作为A集合，再随机生成10个2维点作为B集合。建立课件所示线性规划模型，利用COPT求解此问题最优解。提交资料：\n",
    "- 绘制图像：画出A、B集合中的所有点和优化求解所得分隔线（如课件图所示），\n",
    "- 代码打印附在作业后面\n",
    "（注：在随机生成的2维点$(x_1,x_2)$过程中，可以自己定义A集合和B集合点的区间，点在区间内可以是均匀分布。只要生成结果是课件中不可分情况就可以）"
   ]
  },
  {
   "cell_type": "code",
   "execution_count": 1,
   "metadata": {},
   "outputs": [],
   "source": [
    "# 生成随机点\n",
    "import numpy as np\n",
    "from sklearn.datasets import make_blobs\n",
    "\n",
    "np.random.seed(42)\n",
    "\n",
    "centers = [[0, 0], [2, 2]]\n",
    "cluster_std = [1.5, 1.5]\n",
    "\n",
    "A, _ = make_blobs(n_samples=10, centers=[centers[0]], cluster_std=cluster_std[0])\n",
    "B, _ = make_blobs(n_samples=10, centers=[centers[1]], cluster_std=cluster_std[1])"
   ]
  },
  {
   "cell_type": "code",
   "execution_count": 2,
   "metadata": {},
   "outputs": [
    {
     "name": "stdout",
     "output_type": "stream",
     "text": [
      "Cardinal Optimizer v7.1.1. Build date Mar  4 2024\n",
      "Copyright Cardinal Operations 2024. All Rights Reserved\n",
      "\n",
      "Model fingerprint: 1f5ee5e9\n",
      "\n",
      "Using Cardinal Optimizer v7.1.1 on Windows\n",
      "Hardware has 12 cores and 16 threads. Using instruction set X86_AVX2 (10)\n",
      "Minimizing an LP problem\n",
      "\n",
      "The original problem has:\n",
      "    40 rows, 23 columns and 120 non-zero elements\n",
      "The presolved problem has:\n",
      "    23 rows, 40 columns and 120 non-zero elements\n",
      "\n",
      "Starting the simplex solver using up to 8 threads\n",
      "\n",
      "Method   Iteration           Objective  Primal.NInf   Dual.NInf        Time\n",
      "Dual             0    4.4400634408e+01           23           0       0.01s\n",
      "Dual            24    1.6026407448e+01            0           0       0.01s\n",
      "Postsolving\n",
      "Dual            24    1.6026186312e+01            0           0       0.01s\n",
      "Dual            24    1.6026186312e+01            0           0       0.02s\n",
      "Dual            24    1.6026186312e+01            0           0       0.02s\n",
      "\n",
      "Solving finished\n",
      "Status: Optimal  Objective: 1.6026186312e+01  Iterations: 24  Time: 0.02s\n",
      "Objective value: 16.02618631220632\n",
      "Solving Time: 0.015001296997070312 seconds\n",
      "Variable solution:\n",
      "δ(0): 1.9683179506323063\n",
      "δ(1): 0.8273557372036873\n",
      "δ(2): 0.0\n",
      "δ(3): 0.09114027650359208\n",
      "δ(4): 1.0428586675936535\n",
      "δ(5): 0.0\n",
      "δ(6): 1.0416415086876607\n",
      "δ(7): 2.1550596911396838\n",
      "δ(8): 0.7796131232106001\n",
      "δ(9): 0.30973925906783667\n",
      "σ(0): 0.242066444449794\n",
      "σ(1): 1.5259728803078279\n",
      "σ(2): 0.0\n",
      "σ(3): 0.0\n",
      "σ(4): 0.3996224079878532\n",
      "σ(5): 2.33839710241595\n",
      "σ(6): 1.3250814017880768\n",
      "σ(7): 0.4765299173964713\n",
      "σ(8): 0.5573446650957996\n",
      "σ(9): 0.9454452787255266\n",
      "a(0): -0.685708734817012\n",
      "a(1): -0.6292624691659654\n",
      "b: 0.4692603414528933\n"
     ]
    }
   ],
   "source": [
    "# 使用COPT求解器求解\n",
    "import coptpy\n",
    "\n",
    "env = coptpy.Envr()\n",
    "model = env.createModel(\"lp_example\")\n",
    "\n",
    "delta = model.addMVar(shape=(10,), nameprefix=\"δ\")\n",
    "sigma = model.addMVar(shape=(10,), nameprefix=\"σ\")\n",
    "a = model.addMVar(shape=(2,), lb=-coptpy.COPT.INFINITY, nameprefix=\"a\")\n",
    "b = model.addVar(lb=-coptpy.COPT.INFINITY, name=\"b\")\n",
    "\n",
    "for i in range(10):\n",
    "    model.addConstr(a * A[i] + b + delta[i] >= 1)\n",
    "for i in range(10):\n",
    "    model.addConstr(a * B[i] + b - sigma[i] <= -1)\n",
    "\n",
    "model.setObjective(sum(delta) + sum(sigma), sense=coptpy.COPT.MINIMIZE)\n",
    "\n",
    "model.solve()\n",
    "\n",
    "if model.status == coptpy.COPT.OPTIMAL:\n",
    "    print(\"Objective value: {}\".format(model.objval))\n",
    "    print(\"Solving Time: {} seconds\".format(model.SolvingTime))\n",
    "\n",
    "    allvars = model.getVars()\n",
    "\n",
    "    print(\"Variable solution:\")\n",
    "    for var in allvars:\n",
    "        print(\"{0}: {1}\".format(var.name, var.x))"
   ]
  },
  {
   "cell_type": "code",
   "execution_count": 3,
   "metadata": {},
   "outputs": [
    {
     "data": {
      "image/png": "[encoded data removed]",
      "text/plain": [
       "<Figure size 640x480 with 1 Axes>"
      ]
     },
     "metadata": {},
     "output_type": "display_data"
    }
   ],
   "source": [
    "# 绘图\n",
    "import matplotlib.pyplot as plt\n",
    "\n",
    "a = np.array([allvars.getVar(20).x, allvars.getVar(21).x])\n",
    "b = allvars.getVar(22).x\n",
    "\n",
    "m = -a[0] / a[1]\n",
    "c = -b / a[1]\n",
    "\n",
    "x = np.linspace(-5, 5, 100)\n",
    "y = m * x + c\n",
    "\n",
    "plt.plot(x, y, \"-r\", label=\"a^Tx+b=0\")\n",
    "plt.scatter(A[:, 0], A[:, 1], color=\"blue\", marker=\"o\", label=\"A\")\n",
    "plt.scatter(B[:, 0], B[:, 1], color=\"red\", marker=\"x\", label=\"B\")\n",
    "\n",
    "plt.title(\"2D Points of Set A and B\")\n",
    "plt.xlabel(\"x\", color=\"#1C2833\")\n",
    "plt.ylabel(\"y\", color=\"#1C2833\")\n",
    "plt.legend(loc=\"upper left\")\n",
    "plt.grid()\n",
    "plt.axhline()\n",
    "plt.axvline()\n",
    "plt.show()"
   ]
  }
 ],
 "metadata": {
  "kernelspec": {
   "display_name": "base",
   "language": "python",
   "name": "python3"
  },
  "language_info": {
   "codemirror_mode": {
    "name": "ipython",
    "version": 3
   },
   "file_extension": ".py",
   "mimetype": "text/x-python",
   "name": "python",
   "nbconvert_exporter": "python",
   "pygments_lexer": "ipython3",
   "version": "3.11.4"
  }
 },
 "nbformat": 4,
 "nbformat_minor": 2
}
