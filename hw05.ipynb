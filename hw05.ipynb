{
 "cells": [
  {
   "cell_type": "markdown",
   "metadata": {},
   "source": [
    "网络流课件P10给出了最大流问题的线性规划建模,请将其输入至COPT求解器中,求解P10页中给的例子,验证求解结果与课件给出的最优流量与流值是否一致."
   ]
  },
  {
   "cell_type": "markdown",
   "metadata": {},
   "source": [
    "初始化"
   ]
  },
  {
   "cell_type": "code",
   "execution_count": 136,
   "metadata": {},
   "outputs": [],
   "source": [
    "import numpy as np\n",
    "import coptpy\n",
    "\n",
    "\n",
    "class Node:\n",
    "    def __init__(self, name: str, enter: list = None, out: list = None) -> None:\n",
    "        self.name = name\n",
    "        self.enter = enter if enter is not None else []\n",
    "        self.out = out if out is not None else []\n",
    "\n",
    "\n",
    "class Edge:\n",
    "    def __init__(self, start: Node, end: Node, capacity: int) -> None:\n",
    "        self.name = f\"e_{start.name}{end.name}\"\n",
    "        self.start = start\n",
    "        self.end = end\n",
    "        self.capacity = capacity\n",
    "        self.var = None\n",
    "\n",
    "\n",
    "def init_edges(model, nodes: list, graph: np.ndarray):\n",
    "    Es = [\n",
    "        Edge(nodes[i], nodes[j], graph[i][j])\n",
    "        for i in range(graph.shape[0])\n",
    "        for j in range(graph.shape[1])\n",
    "        if graph[i][j] > 0\n",
    "    ]\n",
    "    for e in Es:\n",
    "        e.var = model.addVar(ub=e.capacity, name=e.name)\n",
    "        e.start.out.append(e)\n",
    "        e.end.enter.append(e)\n",
    "    return Es"
   ]
  },
  {
   "cell_type": "code",
   "execution_count": 137,
   "metadata": {},
   "outputs": [
    {
     "name": "stdout",
     "output_type": "stream",
     "text": [
      "Cardinal Optimizer v7.1.1. Build date Mar  4 2024\n",
      "Copyright Cardinal Operations 2024. All Rights Reserved\n",
      "\n"
     ]
    }
   ],
   "source": [
    "env = coptpy.Envr()\n",
    "model = env.createModel(\"lp_example\")\n",
    "\n",
    "nodes = [Node(\"s\"), Node(\"2\"), Node(\"3\"), Node(\"4\"), Node(\"5\"), Node(\"t\")]\n",
    "\n",
    "graph = np.array(\n",
    "    [\n",
    "        [0, 10, 10, 0, 0, 0],\n",
    "        [0, 0, 0, 9, 0, 0],\n",
    "        [0, 2, 0, 8, 4, 0],\n",
    "        [0, 0, 0, 0, 6, 10],\n",
    "        [0, 0, 0, 0, 0, 10],\n",
    "        [0, 0, 0, 0, 0, 0],\n",
    "    ]\n",
    ")\n",
    "\n",
    "edges = init_edges(model, nodes, graph)"
   ]
  },
  {
   "cell_type": "markdown",
   "metadata": {},
   "source": [
    "边交叉校验"
   ]
  },
  {
   "cell_type": "code",
   "execution_count": 138,
   "metadata": {},
   "outputs": [
    {
     "name": "stdout",
     "output_type": "stream",
     "text": [
      "e_s2 s 2 10\n",
      "e_s3 s 3 10\n",
      "e_24 2 4 9\n",
      "e_32 3 2 2\n",
      "e_34 3 4 8\n",
      "e_35 3 5 4\n",
      "e_45 4 5 6\n",
      "e_4t 4 t 10\n",
      "e_5t 5 t 10\n"
     ]
    }
   ],
   "source": [
    "for edge in edges:\n",
    "    print(edge.name, edge.start.name, edge.end.name, edge.capacity)"
   ]
  },
  {
   "cell_type": "markdown",
   "metadata": {},
   "source": [
    "节点交叉校验"
   ]
  },
  {
   "cell_type": "code",
   "execution_count": 139,
   "metadata": {},
   "outputs": [
    {
     "name": "stdout",
     "output_type": "stream",
     "text": [
      "s [] ['e_s2', 'e_s3']\n",
      "2 ['e_s2', 'e_32'] ['e_24']\n",
      "3 ['e_s3'] ['e_32', 'e_34', 'e_35']\n",
      "4 ['e_24', 'e_34'] ['e_45', 'e_4t']\n",
      "5 ['e_35', 'e_45'] ['e_5t']\n",
      "t ['e_4t', 'e_5t'] []\n"
     ]
    }
   ],
   "source": [
    "for node in nodes:\n",
    "    print(node.name, [e.name for e in node.enter], [e.name for e in node.out])"
   ]
  },
  {
   "cell_type": "markdown",
   "metadata": {},
   "source": [
    "约束条件添加"
   ]
  },
  {
   "cell_type": "code",
   "execution_count": 140,
   "metadata": {},
   "outputs": [
    {
     "data": {
      "text/plain": [
       "[<coptpy.Constraint: >,\n",
       " <coptpy.Constraint: >,\n",
       " <coptpy.Constraint: >,\n",
       " <coptpy.Constraint: >]"
      ]
     },
     "execution_count": 140,
     "metadata": {},
     "output_type": "execute_result"
    }
   ],
   "source": [
    "[\n",
    "    model.addConstr(sum(e.var for e in node.enter) == sum(e.var for e in node.out))\n",
    "    for node in nodes\n",
    "    if node.enter and node.out\n",
    "]"
   ]
  },
  {
   "cell_type": "markdown",
   "metadata": {},
   "source": [
    "目标函数设置并求解"
   ]
  },
  {
   "cell_type": "code",
   "execution_count": 141,
   "metadata": {},
   "outputs": [],
   "source": [
    "model.setObjective(\n",
    "    sum([e.var for e in nodes[0].out]) - sum([e.var for e in nodes[0].enter]),\n",
    "    sense=coptpy.COPT.MAXIMIZE,\n",
    ")"
   ]
  },
  {
   "cell_type": "code",
   "execution_count": 142,
   "metadata": {},
   "outputs": [
    {
     "name": "stdout",
     "output_type": "stream",
     "text": [
      "Model fingerprint: e84f099e\n",
      "\n",
      "Using Cardinal Optimizer v7.1.1 on Windows\n",
      "Hardware has 12 cores and 16 threads. Using instruction set X86_AVX2 (10)\n",
      "Maximizing an LP problem\n",
      "\n",
      "The original problem has:\n",
      "    4 rows, 9 columns and 14 non-zero elements\n",
      "The presolved problem has:\n",
      "    4 rows, 9 columns and 14 non-zero elements\n",
      "\n",
      "Starting the simplex solver using up to 8 threads\n",
      "\n",
      "Method   Iteration           Objective  Primal.NInf   Dual.NInf        Time\n",
      "Dual             0    1.9102837777e+01            2           0       0.01s\n",
      "Dual             5    1.8999566884e+01            0           0       0.01s\n",
      "\n",
      "Solving finished\n",
      "Status: Optimal  Objective: 1.9000000000e+01  Iterations: 5  Time: 0.01s\n"
     ]
    }
   ],
   "source": [
    "model.solve()"
   ]
  },
  {
   "cell_type": "markdown",
   "metadata": {},
   "source": [
    "结果对照检验"
   ]
  },
  {
   "cell_type": "code",
   "execution_count": 145,
   "metadata": {},
   "outputs": [
    {
     "name": "stdout",
     "output_type": "stream",
     "text": [
      "e_s2 = 9.0 / 10.0\n",
      "e_s3 = 10.0 / 10.0\n",
      "e_24 = 9.0 / 9.0\n",
      "e_32 = 0.0 / 2.0\n",
      "e_34 = 6.0 / 8.0\n",
      "e_35 = 4.0 / 4.0\n",
      "e_45 = 5.0 / 6.0\n",
      "e_4t = 10.0 / 10.0\n",
      "e_5t = 9.0 / 10.0\n",
      "max = 19.0\n"
     ]
    }
   ],
   "source": [
    "for i in range(0, len(edges)):\n",
    "    print(\n",
    "        model.getVar(i).name,\n",
    "        \"=\",\n",
    "        model.getVar(i).getInfo(\"Value\"),\n",
    "        \"/\",\n",
    "        model.getVar(i).getInfo(\"UB\"),\n",
    "    )\n",
    "print(\"max =\", model.objval)"
   ]
  }
 ],
 "metadata": {
  "kernelspec": {
   "display_name": "base",
   "language": "python",
   "name": "python3"
  },
  "language_info": {
   "codemirror_mode": {
    "name": "ipython",
    "version": 3
   },
   "file_extension": ".py",
   "mimetype": "text/x-python",
   "name": "python",
   "nbconvert_exporter": "python",
   "pygments_lexer": "ipython3",
   "version": "3.11.4"
  }
 },
 "nbformat": 4,
 "nbformat_minor": 2
}
